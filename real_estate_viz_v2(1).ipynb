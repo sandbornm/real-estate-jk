{
  "cells": [
    {
      "cell_type": "code",
      "execution_count": null,
      "metadata": {
        "id": "4RS1SIGxYT-l"
      },
      "outputs": [],
      "source": [
        "%pip install geopandas geoplot shapely bokeh numpy geopy folium pandas"
      ]
    },
    {
      "cell_type": "code",
      "execution_count": 21,
      "metadata": {
        "colab": {
          "base_uri": "https://localhost:8080/"
        },
        "id": "aMyQorE4YYv7",
        "outputId": "4d20f935-ee9a-4b3d-dee7-6b82aa994a96"
      },
      "outputs": [
        {
          "name": "stdout",
          "output_type": "stream",
          "text": [
            "Drive already mounted at /content/gdrive; to attempt to forcibly remount, call drive.mount(\"/content/gdrive\", force_remount=True).\n"
          ]
        }
      ],
      "source": [
        "from google.colab import drive\n",
        "drive.mount(\"/content/gdrive\")"
      ]
    },
    {
      "cell_type": "code",
      "execution_count": 1,
      "metadata": {
        "id": "QESRtPIGYfKV"
      },
      "outputs": [],
      "source": [
        "import pandas as pd\n",
        "\n",
        "# The excel file location within google drive (e.g. /content/gdrive/my_data.xlsx)\n",
        "# THIS WILL NEED TO BE CHANGED BASED ON YOUR DATA FILE NAME\n",
        "basepath = \"/content/gdrive/MyDrive/\"\n",
        "filename = basepath + \"cities_locations.xlsx\"\n",
        "filename = \"L:\\Equity Research\\REIT Team Shared\\Residential (New)\\MF\\Seattle Practice Supply.xlsx\"\n",
        "\n",
        "# Read the entirety of the excel workbook with the following structure\n",
        "\"\"\"\n",
        "\n",
        "each sheet has the following columns:\n",
        "  Existing_lat | existing_lon | construction_lat | construction_lon | num units\n",
        "\n",
        "each sheet is named by the city where the properties in these columns are located\n",
        "(note this is not strictly necessary but does help organize things more easily)\n",
        "\"\"\"\n",
        "\n",
        "lat_lon_city_df_dict = pd.read_excel(filename, sheet_name=None)"
      ]
    },
    {
      "cell_type": "code",
      "execution_count": 2,
      "metadata": {
        "colab": {
          "base_uri": "https://localhost:8080/"
        },
        "id": "_4o9HsBlYiKF",
        "outputId": "19556565-22a9-4e1c-f86a-db71abd7931e"
      },
      "outputs": [
        {
          "name": "stdout",
          "output_type": "stream",
          "text": [
            "city Sheet1\n",
            "        ELat        ELon       CLat        CLon  num units\n",
            "0  37.282850 -121.938163  47.615017 -122.309073       25.0\n",
            "1  37.333017 -122.021493  47.608640 -122.316632       26.0\n",
            "2  37.414114 -121.903727  47.605856 -122.313105       27.0\n",
            "3  37.397323 -122.092631  47.611858 -122.190724       28.0\n",
            "4  37.336272 -121.887088  47.679610 -122.164069       29.0\n"
          ]
        }
      ],
      "source": [
        "# column headers\n",
        "for city, city_df in lat_lon_city_df_dict.items():\n",
        "  print(f\"city {city}\")\n",
        "  print(city_df.head())"
      ]
    },
    {
      "cell_type": "code",
      "execution_count": 3,
      "metadata": {
        "colab": {
          "base_uri": "https://localhost:8080/"
        },
        "id": "v2_LE0mQYsZJ",
        "outputId": "a1828e97-835f-4537-c90f-0dc0d22abbdc"
      },
      "outputs": [
        {
          "ename": "KeyError",
          "evalue": "'New York'",
          "output_type": "error",
          "traceback": [
            "\u001b[1;31m---------------------------------------------------------------------------\u001b[0m",
            "\u001b[1;31mKeyError\u001b[0m                                  Traceback (most recent call last)",
            "Cell \u001b[1;32mIn[3], line 1\u001b[0m\n\u001b[1;32m----> 1\u001b[0m nyc_df \u001b[39m=\u001b[39m lat_lon_city_df_dict[\u001b[39m'\u001b[39;49m\u001b[39mNew York\u001b[39;49m\u001b[39m'\u001b[39;49m]\n\u001b[0;32m      3\u001b[0m nyc_existing \u001b[39m=\u001b[39m nyc_df[[\u001b[39m'\u001b[39m\u001b[39mELat\u001b[39m\u001b[39m'\u001b[39m, \u001b[39m'\u001b[39m\u001b[39mELon\u001b[39m\u001b[39m'\u001b[39m]]\n\u001b[0;32m      4\u001b[0m nyc_construction_units \u001b[39m=\u001b[39m nyc_df[[\u001b[39m'\u001b[39m\u001b[39mCLat\u001b[39m\u001b[39m'\u001b[39m, \u001b[39m'\u001b[39m\u001b[39mCLon\u001b[39m\u001b[39m'\u001b[39m, \u001b[39m'\u001b[39m\u001b[39mnum units\u001b[39m\u001b[39m'\u001b[39m]]\n",
            "\u001b[1;31mKeyError\u001b[0m: 'New York'"
          ]
        }
      ],
      "source": [
        "nyc_df = lat_lon_city_df_dict['New York']\n",
        "\n",
        "nyc_existing = nyc_df[['ELat', 'ELon']]\n",
        "nyc_construction_units = nyc_df[['CLat', 'CLon', 'num units']]\n",
        "\n",
        "print(nyc_existing)\n",
        "print(nyc_construction_units)\n",
        "print(type(nyc_existing['ELat'][0]))"
      ]
    },
    {
      "cell_type": "code",
      "execution_count": 4,
      "metadata": {
        "id": "YF7YVml5bdzU"
      },
      "outputs": [],
      "source": [
        "def get_distance_between_points(lat1, lon1, lat2, lon2, threshold=1, unit='mi'):\n",
        "  \"\"\"\n",
        "    calculate the distance in 'units' of the input coordinates given by 'lat1/2' and lon1/2'.\n",
        "    If the resulting distance falls within 'threshold' then we are going to increment the\n",
        "    encroach count by the number of units of the building under construction. If the units have already\n",
        "    been accounted for, then the sum only increments by 1 (is correct? why?)\n",
        "  \"\"\"\n",
        "  assert unit in ['mi', 'km'], f\"unit {unit} is not valid. Must be mi or km\"\n",
        "\n",
        "  # calculate the distance between 2 coordinate pairs (lat N, lon W) in specified units\n",
        "  # determine whether the resulting distance violates the specified threshold\n",
        "\n",
        "  import geopy.distance\n",
        "  \n",
        "  coords1 = (lat1, lon1) # tuple type\n",
        "  coords2 = (lat2, lon2) # tuple type\n",
        "  \n",
        "  if unit == 'mi':\n",
        "    distance = geopy.distance.geodesic(coords1, coords2).miles\n",
        "  elif unit == 'km':\n",
        "    distance = geopy.distance.geodesic(coords1, coords2).km\n",
        "\n",
        "  print(f\"distance between {coords1} and {coords2} in {unit} is {distance} {unit}\")\n",
        "\n",
        "  return distance"
      ]
    },
    {
      "cell_type": "code",
      "execution_count": null,
      "metadata": {
        "colab": {
          "base_uri": "https://localhost:8080/"
        },
        "id": "V1DLG6_ja3uq",
        "outputId": "0a46f79d-2c41-4d8d-f747-e7373b17f489"
      },
      "outputs": [],
      "source": [
        "threshold = 1 # miles\n",
        "\n",
        "violation_city_df_dict = {}\n",
        "total_units_interfering = {}\n",
        "\n",
        "companies = [\"AVB\", \"ESS\", \"EQR\", \"UDR\", \"CPT\", \"MAA\"]\n",
        "\n",
        "# for company in companies:\n",
        "# AVB, ESS, EQR, UDR, CPT, MAA - sheet names by company\n",
        "for city,df in lat_lon_city_df_dict.items():\n",
        "\n",
        "  #df.dropna(inplace=True)\n",
        "\n",
        "  existing = df[['ELat','ELon']]\n",
        "\n",
        "  construction = df[['CLat', 'CLon', 'num units']]\n",
        "  construction.dropna (inplace = True)\n",
        "\n",
        "  construction_sites_did_count = {(row['CLat'], row['CLon']): [False, row['num units']] for _, row in construction.iterrows()}\n",
        "  \n",
        "  total_units_interfering[city] = 0\n",
        "  \n",
        "  print(construction_sites_did_count)\n",
        "\n",
        "  violation_df = pd.DataFrame()\n",
        "\n",
        "  num_violations = 0\n",
        "\n",
        "  clat_vlst = [] # for col CLat\n",
        "  clon_vlst = [] # for col CLon\n",
        "  elat_vlst = [] # for col ELat\n",
        "  elon_vlst = [] # for col ELon\n",
        "  dist_vlst = [] # for col interf_dist_mi\n",
        "  unit_vlst = [] # for col num_units_interfering\n",
        "\n",
        "  for index, row in construction.iterrows():\n",
        "    \n",
        "    clat = row['CLat']\n",
        "    clon = row['CLon']\n",
        "    unit_count = row['num units']\n",
        "\n",
        "    for index, row in existing.iterrows():\n",
        "      elat = row['ELat']\n",
        "      elon = row['ELon']\n",
        "\n",
        "      # get the distance\n",
        "      distance = get_distance_between_points(clat, clon, elat, elon)\n",
        "\n",
        "      if distance <= threshold and construction_sites_did_count[(clat, clon)][0] == False:\n",
        "        print(f\"[violation: not counted] construction at ({clat}, {clon}) interferes with building at ({elat},{elon}) with distance {distance} mi\")\n",
        "\n",
        "        # mark construction site as visited\n",
        "        construction_sites_did_count[(clat, clon)][0] = True\n",
        "        interfering_units = construction_sites_did_count[(clat, clon)][1]\n",
        "        total_units_interfering[city] += interfering_units\n",
        "\n",
        "        # add the interference to the lists to build the dataframe\n",
        "        clat_vlst.append(clat)\n",
        "        clon_vlst.append(clon)\n",
        "        elat_vlst.append(elat)\n",
        "        elon_vlst.append(elon)\n",
        "        dist_vlst.append(distance)\n",
        "        unit_vlst.append(interfering_units)\n",
        "\n",
        "        # update total number of violations\n",
        "        num_violations += 1\n",
        "\n",
        "      elif distance <= threshold and construction_sites_did_count[(clat, clon)][0] == True:\n",
        "        print(f\"[violation: already counted] already counted construction at ({clat}, {clon}) which interferes with building at ({elat},{elon}) with distance {distance} mi\")\n",
        "      \n",
        "      else:\n",
        "        print(f\"no violation between construction at ({clat}, {clon}) and existing building ({elat},{elon}) (distance: {distance} mi\")\n",
        "\n",
        "      print(\"*\" * 30)\n",
        "    # update the dataframe and write to dict\n",
        "  print(len(clat_vlst))\n",
        "  violation_df['CLat'] = clat_vlst\n",
        "  violation_df['CLon'] = clon_vlst\n",
        "  violation_df['ELat'] = elat_vlst\n",
        "  violation_df['ELon'] = elon_vlst\n",
        "  violation_df['interf_dist_mi'] = dist_vlst\n",
        "  violation_df['num_units_interfering'] = unit_vlst\n",
        "\n",
        "  violation_city_df_dict[city] = violation_df\n",
        "\n",
        "\n",
        "print(construction_sites_did_count)\n",
        "print(total_units_interfering)\n",
        "print(violation_city_df_dict)"
      ]
    },
    {
      "cell_type": "code",
      "execution_count": 8,
      "metadata": {
        "id": "INtqL5tBfQF5"
      },
      "outputs": [],
      "source": [
        "import folium\n",
        "from geopy.geocoders import Nominatim"
      ]
    },
    {
      "cell_type": "code",
      "execution_count": 9,
      "metadata": {
        "id": "-BLAyek2RLZa"
      },
      "outputs": [],
      "source": [
        "def get_coords_by_cityname(city):\n",
        "  geolocator = Nominatim(user_agent='myapplication')\n",
        "  location = geolocator.geocode(city)\n",
        "  print(location.raw)\n",
        "  return (location.raw['lat'], location.raw['lon'])"
      ]
    },
    {
      "cell_type": "code",
      "execution_count": 12,
      "metadata": {
        "id": "hz52yHP8QnGz"
      },
      "outputs": [],
      "source": [
        "def create_map(city_name, city_interference_df_dict, circles=True, threshold=1, units='mi', construction_marker_color='red', existing_marker_color='blue'):\n",
        "\n",
        "  city_interference_df = city_interference_df_dict[city_name]\n",
        "\n",
        "  # 100 mi circle around average coordinate to get (# interfering units / total unit count under construction)\n",
        "\n",
        "  #city_coords = get_coords_by_cityname(city_name)\n",
        "  #city_lat, city_lon = city_coords\n",
        "  #print(f\"creating map for city: {city_name} at coords N lat, W lon ({city_lat}, {city_lon})\")\n",
        "\n",
        "  m = folium.Map(zoom_start=12, tiles='OpenStreetMap', csr=\"EPSG4326\")\n",
        "\n",
        "  # 40.7128, 74.0060\n",
        "\n",
        "  #folium.Circle(\n",
        "          #location= [city_lat, city_lon],\n",
        "          #radius=1609 * 25,\n",
        "          #popup= f\"{threshold} {units} radius\",\n",
        "          #color='green',\n",
        "          #fill=False,\n",
        "      #).add_to(m)\n",
        "\n",
        "  for index, row in city_interference_df.iterrows():\n",
        "\n",
        "    # plot the existing site\n",
        "    clat = row['CLat']\n",
        "    clon = row['CLon']\n",
        "    print(f\"clat, clon: {round(clat, 3)}, {round(clon, 3)}, {type(clat), type(clon)}\")\n",
        "    unit_count = row['num_units_interfering']\n",
        "\n",
        "    folium.Marker(\n",
        "      location= [round(clat, 3), round(clon, 3)],\n",
        "      radius=3,\n",
        "      #color=construction_marker_color,\n",
        "      fill=True,\n",
        "      icon=folium.Icon(color=construction_marker_color, icon=''),\n",
        "      popup= f\"construction location ({clat},{clon})\"   # f\"{unit_count} units in progress\",\n",
        "    ).add_to(m)\n",
        "    \n",
        "    elat = row['ELat']\n",
        "    elon = row['ELon']\n",
        "\n",
        "    if circles:\n",
        "      # plot 1mi radius around location\n",
        "      folium.Circle(\n",
        "          location= [elat, elon],\n",
        "          radius=1609,\n",
        "          popup= f\"{threshold} {units} radius\",\n",
        "          color=existing_marker_color,\n",
        "          fill=False,\n",
        "      ).add_to(m)\n",
        "\n",
        "    #plot existing location\n",
        "    folium.Marker(\n",
        "        location= [elat, elon],\n",
        "        radius=3,\n",
        "        color=existing_marker_color,\n",
        "        fill=True,\n",
        "        fill_color=existing_marker_color,\n",
        "        popup=f\"existing location ({elat}, {elon})\"\n",
        "    ).add_to(m)\n",
        "\n",
        "    dist = row['interf_dist_mi']\n",
        "\n",
        "  return m"
      ]
    },
    {
      "cell_type": "code",
      "execution_count": 14,
      "metadata": {
        "colab": {
          "base_uri": "https://localhost:8080/",
          "height": 912
        },
        "id": "dxMVSCRAcm1K",
        "outputId": "fa351dc7-b8a2-4560-9290-64bcc964b2f8"
      },
      "outputs": [
        {
          "name": "stdout",
          "output_type": "stream",
          "text": [
            "========================================\n",
            "clat, clon: 47.612, -122.191, (<class 'numpy.float64'>, <class 'numpy.float64'>)\n"
          ]
        },
        {
          "data": {
            "text/html": [
              "<div style=\"width:100%;\"><div style=\"position:relative;width:100%;height:0;padding-bottom:60%;\"><span style=\"color:#565656\">Make this Notebook Trusted to load map: File -> Trust Notebook</span><iframe srcdoc=\"&lt;!DOCTYPE html&gt;\n",
              "&lt;html&gt;\n",
              "&lt;head&gt;\n",
              "    \n",
              "    &lt;meta http-equiv=&quot;content-type&quot; content=&quot;text/html; charset=UTF-8&quot; /&gt;\n",
              "    \n",
              "        &lt;script&gt;\n",
              "            L_NO_TOUCH = false;\n",
              "            L_DISABLE_3D = false;\n",
              "        &lt;/script&gt;\n",
              "    \n",
              "    &lt;style&gt;html, body {width: 100%;height: 100%;margin: 0;padding: 0;}&lt;/style&gt;\n",
              "    &lt;style&gt;#map {position:absolute;top:0;bottom:0;right:0;left:0;}&lt;/style&gt;\n",
              "    &lt;script src=&quot;https://cdn.jsdelivr.net/npm/leaflet@1.9.3/dist/leaflet.js&quot;&gt;&lt;/script&gt;\n",
              "    &lt;script src=&quot;https://code.jquery.com/jquery-1.12.4.min.js&quot;&gt;&lt;/script&gt;\n",
              "    &lt;script src=&quot;https://cdn.jsdelivr.net/npm/bootstrap@5.2.2/dist/js/bootstrap.bundle.min.js&quot;&gt;&lt;/script&gt;\n",
              "    &lt;script src=&quot;https://cdnjs.cloudflare.com/ajax/libs/Leaflet.awesome-markers/2.0.2/leaflet.awesome-markers.js&quot;&gt;&lt;/script&gt;\n",
              "    &lt;link rel=&quot;stylesheet&quot; href=&quot;https://cdn.jsdelivr.net/npm/leaflet@1.9.3/dist/leaflet.css&quot;/&gt;\n",
              "    &lt;link rel=&quot;stylesheet&quot; href=&quot;https://cdn.jsdelivr.net/npm/bootstrap@5.2.2/dist/css/bootstrap.min.css&quot;/&gt;\n",
              "    &lt;link rel=&quot;stylesheet&quot; href=&quot;https://netdna.bootstrapcdn.com/bootstrap/3.0.0/css/bootstrap.min.css&quot;/&gt;\n",
              "    &lt;link rel=&quot;stylesheet&quot; href=&quot;https://cdn.jsdelivr.net/npm/@fortawesome/fontawesome-free@6.2.0/css/all.min.css&quot;/&gt;\n",
              "    &lt;link rel=&quot;stylesheet&quot; href=&quot;https://cdnjs.cloudflare.com/ajax/libs/Leaflet.awesome-markers/2.0.2/leaflet.awesome-markers.css&quot;/&gt;\n",
              "    &lt;link rel=&quot;stylesheet&quot; href=&quot;https://cdn.jsdelivr.net/gh/python-visualization/folium/folium/templates/leaflet.awesome.rotate.min.css&quot;/&gt;\n",
              "    \n",
              "            &lt;meta name=&quot;viewport&quot; content=&quot;width=device-width,\n",
              "                initial-scale=1.0, maximum-scale=1.0, user-scalable=no&quot; /&gt;\n",
              "            &lt;style&gt;\n",
              "                #map_301f6c8d3358ad71b42a0d5134404758 {\n",
              "                    position: relative;\n",
              "                    width: 100.0%;\n",
              "                    height: 100.0%;\n",
              "                    left: 0.0%;\n",
              "                    top: 0.0%;\n",
              "                }\n",
              "                .leaflet-container { font-size: 1rem; }\n",
              "            &lt;/style&gt;\n",
              "        \n",
              "&lt;/head&gt;\n",
              "&lt;body&gt;\n",
              "    \n",
              "    \n",
              "            &lt;div class=&quot;folium-map&quot; id=&quot;map_301f6c8d3358ad71b42a0d5134404758&quot; &gt;&lt;/div&gt;\n",
              "        \n",
              "&lt;/body&gt;\n",
              "&lt;script&gt;\n",
              "    \n",
              "    \n",
              "            var map_301f6c8d3358ad71b42a0d5134404758 = L.map(\n",
              "                &quot;map_301f6c8d3358ad71b42a0d5134404758&quot;,\n",
              "                {\n",
              "                    center: [0, 0],\n",
              "                    crs: L.CRS.EPSG3857,\n",
              "                    zoom: 1,\n",
              "                    zoomControl: true,\n",
              "                    preferCanvas: false,\n",
              "                    csr: &quot;EPSG4326&quot;,\n",
              "                }\n",
              "            );\n",
              "\n",
              "            \n",
              "\n",
              "        \n",
              "    \n",
              "            var tile_layer_77539d0c0b4bbecc1dbcfff48c1f2af7 = L.tileLayer(\n",
              "                &quot;https://{s}.tile.openstreetmap.org/{z}/{x}/{y}.png&quot;,\n",
              "                {&quot;attribution&quot;: &quot;Data by \\u0026copy; \\u003ca target=\\&quot;_blank\\&quot; href=\\&quot;http://openstreetmap.org\\&quot;\\u003eOpenStreetMap\\u003c/a\\u003e, under \\u003ca target=\\&quot;_blank\\&quot; href=\\&quot;http://www.openstreetmap.org/copyright\\&quot;\\u003eODbL\\u003c/a\\u003e.&quot;, &quot;detectRetina&quot;: false, &quot;maxNativeZoom&quot;: 18, &quot;maxZoom&quot;: 18, &quot;minZoom&quot;: 0, &quot;noWrap&quot;: false, &quot;opacity&quot;: 1, &quot;subdomains&quot;: &quot;abc&quot;, &quot;tms&quot;: false}\n",
              "            ).addTo(map_301f6c8d3358ad71b42a0d5134404758);\n",
              "        \n",
              "    \n",
              "            var marker_ddd3eea9ead9806a0a47a57e8547cb0d = L.marker(\n",
              "                [47.612, -122.191],\n",
              "                {&quot;fill&quot;: true, &quot;radius&quot;: 3}\n",
              "            ).addTo(map_301f6c8d3358ad71b42a0d5134404758);\n",
              "        \n",
              "    \n",
              "            var icon_98749f9673cb7c5d618b022184e767a4 = L.AwesomeMarkers.icon(\n",
              "                {&quot;extraClasses&quot;: &quot;fa-rotate-0&quot;, &quot;icon&quot;: &quot;&quot;, &quot;iconColor&quot;: &quot;white&quot;, &quot;markerColor&quot;: &quot;red&quot;, &quot;prefix&quot;: &quot;glyphicon&quot;}\n",
              "            );\n",
              "            marker_ddd3eea9ead9806a0a47a57e8547cb0d.setIcon(icon_98749f9673cb7c5d618b022184e767a4);\n",
              "        \n",
              "    \n",
              "        var popup_0a17bad157c461c0d30789a240138002 = L.popup({&quot;maxWidth&quot;: &quot;100%&quot;});\n",
              "\n",
              "        \n",
              "            \n",
              "                var html_156bb28be963665b0e34352b91405589 = $(`&lt;div id=&quot;html_156bb28be963665b0e34352b91405589&quot; style=&quot;width: 100.0%; height: 100.0%;&quot;&gt;construction location (47.611858,-122.190724)&lt;/div&gt;`)[0];\n",
              "                popup_0a17bad157c461c0d30789a240138002.setContent(html_156bb28be963665b0e34352b91405589);\n",
              "            \n",
              "        \n",
              "\n",
              "        marker_ddd3eea9ead9806a0a47a57e8547cb0d.bindPopup(popup_0a17bad157c461c0d30789a240138002)\n",
              "        ;\n",
              "\n",
              "        \n",
              "    \n",
              "    \n",
              "            var circle_fb29a3c3570eb42145043eb56a416410 = L.circle(\n",
              "                [47.619747, -122.198249],\n",
              "                {&quot;bubblingMouseEvents&quot;: true, &quot;color&quot;: &quot;blue&quot;, &quot;dashArray&quot;: null, &quot;dashOffset&quot;: null, &quot;fill&quot;: false, &quot;fillColor&quot;: &quot;blue&quot;, &quot;fillOpacity&quot;: 0.2, &quot;fillRule&quot;: &quot;evenodd&quot;, &quot;lineCap&quot;: &quot;round&quot;, &quot;lineJoin&quot;: &quot;round&quot;, &quot;opacity&quot;: 1.0, &quot;radius&quot;: 1609, &quot;stroke&quot;: true, &quot;weight&quot;: 3}\n",
              "            ).addTo(map_301f6c8d3358ad71b42a0d5134404758);\n",
              "        \n",
              "    \n",
              "        var popup_d54e61aeb57010505d2e1d2f6db63eed = L.popup({&quot;maxWidth&quot;: &quot;100%&quot;});\n",
              "\n",
              "        \n",
              "            \n",
              "                var html_e8185d395eed0e12e4582c00e1a9f578 = $(`&lt;div id=&quot;html_e8185d395eed0e12e4582c00e1a9f578&quot; style=&quot;width: 100.0%; height: 100.0%;&quot;&gt;1 mi radius&lt;/div&gt;`)[0];\n",
              "                popup_d54e61aeb57010505d2e1d2f6db63eed.setContent(html_e8185d395eed0e12e4582c00e1a9f578);\n",
              "            \n",
              "        \n",
              "\n",
              "        circle_fb29a3c3570eb42145043eb56a416410.bindPopup(popup_d54e61aeb57010505d2e1d2f6db63eed)\n",
              "        ;\n",
              "\n",
              "        \n",
              "    \n",
              "    \n",
              "            var marker_cad781f0a48b925b38076b6c5d9e9548 = L.marker(\n",
              "                [47.619747, -122.198249],\n",
              "                {&quot;color&quot;: &quot;blue&quot;, &quot;fill&quot;: true, &quot;fillColor&quot;: &quot;blue&quot;, &quot;radius&quot;: 3}\n",
              "            ).addTo(map_301f6c8d3358ad71b42a0d5134404758);\n",
              "        \n",
              "    \n",
              "        var popup_27511ad7a26eafbd073463653159646a = L.popup({&quot;maxWidth&quot;: &quot;100%&quot;});\n",
              "\n",
              "        \n",
              "            \n",
              "                var html_72816f59a8b081b9f3d465f73282687e = $(`&lt;div id=&quot;html_72816f59a8b081b9f3d465f73282687e&quot; style=&quot;width: 100.0%; height: 100.0%;&quot;&gt;existing location (47.619747, -122.198249)&lt;/div&gt;`)[0];\n",
              "                popup_27511ad7a26eafbd073463653159646a.setContent(html_72816f59a8b081b9f3d465f73282687e);\n",
              "            \n",
              "        \n",
              "\n",
              "        marker_cad781f0a48b925b38076b6c5d9e9548.bindPopup(popup_27511ad7a26eafbd073463653159646a)\n",
              "        ;\n",
              "\n",
              "        \n",
              "    \n",
              "&lt;/script&gt;\n",
              "&lt;/html&gt;\" style=\"position:absolute;width:100%;height:100%;left:0;top:0;border:none !important;\" allowfullscreen webkitallowfullscreen mozallowfullscreen></iframe></div></div>"
            ],
            "text/plain": [
              "<folium.folium.Map at 0x26c9b05e190>"
            ]
          },
          "execution_count": 14,
          "metadata": {},
          "output_type": "execute_result"
        }
      ],
      "source": [
        "for city in list(violation_city_df_dict.keys()):\n",
        "  print(\"=\" * 40)\n",
        "  m = create_map(city, violation_city_df_dict)\n",
        "\n",
        "m"
      ]
    }
  ],
  "metadata": {
    "colab": {
      "provenance": []
    },
    "kernelspec": {
      "display_name": "Python 3.9.12 ('base')",
      "language": "python",
      "name": "python3"
    },
    "language_info": {
      "codemirror_mode": {
        "name": "ipython",
        "version": 3
      },
      "file_extension": ".py",
      "mimetype": "text/x-python",
      "name": "python",
      "nbconvert_exporter": "python",
      "pygments_lexer": "ipython3",
      "version": "3.9.16"
    },
    "vscode": {
      "interpreter": {
        "hash": "19d1d53a962d236aa061289c2ac16dc8e6d9648c89fe79f459ae9a3493bc67b4"
      }
    }
  },
  "nbformat": 4,
  "nbformat_minor": 0
}
